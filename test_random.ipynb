{
 "cells": [
  {
   "cell_type": "code",
   "execution_count": 62,
   "metadata": {},
   "outputs": [
    {
     "name": "stdout",
     "output_type": "stream",
     "text": [
      "The autoreload extension is already loaded. To reload it, use:\n",
      "  %reload_ext autoreload\n"
     ]
    }
   ],
   "source": [
    "from random_assignment import run_random_assignment\n",
    "\n",
    "%load_ext autoreload\n",
    "%autoreload 2"
   ]
  },
  {
   "cell_type": "code",
   "execution_count": 63,
   "metadata": {},
   "outputs": [],
   "source": [
    "groups = [\n",
    "    {\"id\": 1, \"size\": 5, 'pref': [100]},\n",
    "    {\"id\": 2, \"size\": 3, 'pref': [300, 200]},\n",
    "    {\"id\": 3, \"size\": 4, 'pref': [100, 200, 300]},\n",
    "]"
   ]
  },
  {
   "cell_type": "code",
   "execution_count": 64,
   "metadata": {},
   "outputs": [],
   "source": [
    "events = [\n",
    "    {\"id\": 100, \"groups\": [], 'min' :7, 'max':10},\n",
    "    {\"id\": 200, \"groups\": [], 'min': 2, 'max': 4},\n",
    "    {\"id\": 300, \"groups\": [], 'min': 4, 'max': 5},\n",
    "]"
   ]
  },
  {
   "cell_type": "code",
   "execution_count": 65,
   "metadata": {},
   "outputs": [],
   "source": [
    "def create_gain_list(groups, events):\n",
    "    gain_list = []\n",
    "    for group in groups:\n",
    "\n",
    "        for i, pref in enumerate(group['pref']):\n",
    "            gain_list.append({'id': group['id'], 'event': pref, 'gain': 1/(i+1)})\n",
    "    return gain_list"
   ]
  },
  {
   "cell_type": "code",
   "execution_count": 66,
   "metadata": {},
   "outputs": [],
   "source": [
    "gain_list = create_gain_list(groups, events)"
   ]
  },
  {
   "cell_type": "code",
   "execution_count": 67,
   "metadata": {},
   "outputs": [
    {
     "data": {
      "text/plain": [
       "[{'id': 1, 'event': 100, 'gain': 1.0},\n",
       " {'id': 2, 'event': 300, 'gain': 1.0},\n",
       " {'id': 2, 'event': 200, 'gain': 0.5},\n",
       " {'id': 3, 'event': 100, 'gain': 1.0},\n",
       " {'id': 3, 'event': 200, 'gain': 0.5},\n",
       " {'id': 3, 'event': 300, 'gain': 0.3333333333333333}]"
      ]
     },
     "execution_count": 67,
     "metadata": {},
     "output_type": "execute_result"
    }
   ],
   "source": [
    "gain_list"
   ]
  },
  {
   "cell_type": "code",
   "execution_count": 68,
   "metadata": {},
   "outputs": [],
   "source": [
    "gain_list.sort(key=lambda x: x['gain'], reverse=True)"
   ]
  },
  {
   "cell_type": "code",
   "execution_count": 69,
   "metadata": {},
   "outputs": [
    {
     "data": {
      "text/plain": [
       "[{'id': 1, 'event': 100, 'gain': 1.0},\n",
       " {'id': 2, 'event': 300, 'gain': 1.0},\n",
       " {'id': 3, 'event': 100, 'gain': 1.0},\n",
       " {'id': 2, 'event': 200, 'gain': 0.5},\n",
       " {'id': 3, 'event': 200, 'gain': 0.5},\n",
       " {'id': 3, 'event': 300, 'gain': 0.3333333333333333}]"
      ]
     },
     "execution_count": 69,
     "metadata": {},
     "output_type": "execute_result"
    }
   ],
   "source": [
    "gain_list"
   ]
  },
  {
   "cell_type": "code",
   "execution_count": 70,
   "metadata": {},
   "outputs": [],
   "source": [
    "input = {'groups': groups, 'events': events, 'gain_list': gain_list}"
   ]
  },
  {
   "cell_type": "code",
   "execution_count": 71,
   "metadata": {},
   "outputs": [],
   "source": [
    "assignments = run_random_assignment(input)"
   ]
  },
  {
   "cell_type": "code",
   "execution_count": 72,
   "metadata": {},
   "outputs": [
    {
     "data": {
      "text/plain": [
       "[{'id': 1, 'assignment': 100},\n",
       " {'id': 2, 'assignment': 200},\n",
       " {'id': 3, 'assignment': 100}]"
      ]
     },
     "execution_count": 72,
     "metadata": {},
     "output_type": "execute_result"
    }
   ],
   "source": [
    "assignments"
   ]
  },
  {
   "cell_type": "code",
   "execution_count": 73,
   "metadata": {},
   "outputs": [
    {
     "data": {
      "text/plain": [
       "[{'id': 1, 'size': 5, 'pref': [100]},\n",
       " {'id': 2, 'size': 3, 'pref': [300, 200]},\n",
       " {'id': 3, 'size': 4, 'pref': [100, 200, 300]}]"
      ]
     },
     "execution_count": 73,
     "metadata": {},
     "output_type": "execute_result"
    }
   ],
   "source": [
    "groups"
   ]
  },
  {
   "cell_type": "code",
   "execution_count": 74,
   "metadata": {},
   "outputs": [
    {
     "data": {
      "text/plain": [
       "[{'id': 100, 'groups': [], 'min': 7, 'max': 10},\n",
       " {'id': 200, 'groups': [], 'min': 2, 'max': 4},\n",
       " {'id': 300, 'groups': [], 'min': 4, 'max': 5}]"
      ]
     },
     "execution_count": 74,
     "metadata": {},
     "output_type": "execute_result"
    }
   ],
   "source": [
    "events"
   ]
  }
 ],
 "metadata": {
  "kernelspec": {
   "display_name": ".venv",
   "language": "python",
   "name": "python3"
  },
  "language_info": {
   "codemirror_mode": {
    "name": "ipython",
    "version": 3
   },
   "file_extension": ".py",
   "mimetype": "text/x-python",
   "name": "python",
   "nbconvert_exporter": "python",
   "pygments_lexer": "ipython3",
   "version": "3.9.6"
  },
  "orig_nbformat": 4
 },
 "nbformat": 4,
 "nbformat_minor": 2
}
